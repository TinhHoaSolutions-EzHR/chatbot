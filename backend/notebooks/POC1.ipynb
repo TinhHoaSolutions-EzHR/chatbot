{
 "cells": [
  {
   "cell_type": "markdown",
   "metadata": {},
   "source": [
    "# 1. Loading"
   ]
  },
  {
   "cell_type": "markdown",
   "metadata": {},
   "source": [
    "## Import libraries and settings"
   ]
  },
  {
   "cell_type": "code",
   "execution_count": null,
   "metadata": {},
   "outputs": [],
   "source": [
    "from app.utils.llm.helpers import get_openai_api_key\n",
    "\n",
    "# Get the OpenAI API key\n",
    "openai_api_key = get_openai_api_key()"
   ]
  },
  {
   "cell_type": "code",
   "execution_count": null,
   "metadata": {},
   "outputs": [],
   "source": [
    "from llama_index.core import Settings\n",
    "from app.utils.llm.helpers import init_llm_configurations\n",
    "from app.settings import Constants\n",
    "\n",
    "init_llm_configurations(llm_model=Constants.LLM_MODEL, embedding_model=Constants.EMBEDDING_MODEL)\n",
    "\n",
    "Settings"
   ]
  },
  {
   "cell_type": "code",
   "execution_count": null,
   "metadata": {},
   "outputs": [],
   "source": [
    "import nest_asyncio\n",
    "\n",
    "# Apply nest_asyncio to allow asyncio in Jupyter Notebook\n",
    "nest_asyncio.apply()"
   ]
  },
  {
   "cell_type": "markdown",
   "metadata": {},
   "source": [
    "## Read file pdf\n",
    "\n",
    "### Behavior\n",
    "\n",
    "Assume that already has the pdf file.\n",
    "\n",
    "- Use markitdown to convert pdf to markdown\n",
    "- Create a Document object of LlamaIndex from the markdown file\n",
    "- Create an Ingestion Pipeline (cache enabled) and ingest the Document to Node objects\n",
    "- Save those nodes to the storage context including docstore, vectorstore, and index store\n",
    "\n",
    "### Chunking method\n",
    "\n",
    "- Firstly, having the document with Vietnamese text\n",
    "- Translate the document to English\n",
    "- Use [semantic splitter](https://docs.llamaindex.ai/en/stable/examples/node_parsers/semantic_chunking/) to split the document into chunks\n",
    "  - Threshold: 85\n",
    "  - Buffer size: 3\n",
    "  - Why?\n",
    "\n",
    "References:\n",
    "- https://youtu.be/8OJC21T2SL4?t=1933\n",
    "\n",
    "Other methods:\n",
    "- [Semantic Double Merging Chunking](https://docs.llamaindex.ai/en/stable/examples/node_parsers/semantic_double_merging_chunking/)"
   ]
  },
  {
   "cell_type": "markdown",
   "metadata": {},
   "source": [
    "### Loading"
   ]
  },
  {
   "cell_type": "code",
   "execution_count": null,
   "metadata": {},
   "outputs": [],
   "source": [
    "from app.integrations.llama_index.ingestion_pipelines.readers import MarkitdownReader\n",
    "\n",
    "# Initialize the MarkitdownReader\n",
    "markitdown_reader = MarkitdownReader()\n",
    "filepath = \"data/NQLD01.pdf\"\n",
    "\n",
    "documents = markitdown_reader.load_data(filepath)\n",
    "documents[0].metadata"
   ]
  },
  {
   "cell_type": "markdown",
   "metadata": {},
   "source": [
    "### Translation from Vietnamese to English"
   ]
  },
  {
   "cell_type": "code",
   "execution_count": null,
   "metadata": {},
   "outputs": [],
   "source": [
    "from app.integrations.llama_index.ingestion_pipelines.translators import Translator\n",
    "\n",
    "translator = Translator.from_defaults(source_language=\"vietnamese\", target_language=\"english\")\n",
    "translated_documents = translator.get_translated_documents(documents, show_progress=True)\n",
    "\n",
    "translated_documents"
   ]
  },
  {
   "cell_type": "markdown",
   "metadata": {},
   "source": [
    "### Node splitting"
   ]
  },
  {
   "cell_type": "code",
   "execution_count": null,
   "metadata": {},
   "outputs": [],
   "source": [
    "from llama_index.core.node_parser import SemanticSplitterNodeParser\n",
    "\n",
    "# Text splitters\n",
    "# Use the SemanticSplitterNodeParser to split the text into nodes\n",
    "semantic_splitter = SemanticSplitterNodeParser.from_defaults(\n",
    "    embed_model=Settings.embed_model,\n",
    "    breakpoint_percentile_threshold=85,\n",
    "    buffer_size=3\n",
    ")"
   ]
  },
  {
   "cell_type": "markdown",
   "metadata": {},
   "source": [
    "### Metadata extraction"
   ]
  },
  {
   "cell_type": "code",
   "execution_count": null,
   "metadata": {},
   "outputs": [],
   "source": [
    "\"\"\"\n",
    "Metadata key: issue_date, is_outdated\n",
    "Input from user input on frontend.\n",
    "Purpose: To filter out outdated documents.\n",
    "\"\"\"\n",
    "issue_data = input(\"Enter the issue date of the document (YYYY-MM-DD): \")\n",
    "is_outdated = bool(input(\"Is the document outdated? (True/False): \"))\n",
    "\n",
    "for document in translated_documents:\n",
    "    document.metadata[\"issue_date\"] = issue_data\n",
    "    document.metadata[\"is_outdated\"] = is_outdated"
   ]
  },
  {
   "cell_type": "code",
   "execution_count": null,
   "metadata": {},
   "outputs": [],
   "source": [
    "\"\"\"\n",
    "Metadata key: excerpt_keywords\n",
    "Extract keywords from the text\n",
    "Purpose: Can be used to do topic/tag or keyword-based search (metadata filter).\n",
    "\"\"\"\n",
    "from llama_index.core.extractors import KeywordExtractor\n",
    "\n",
    "keyword_extractor = KeywordExtractor(llm=Settings.llm, keywords=3)"
   ]
  },
  {
   "cell_type": "code",
   "execution_count": null,
   "metadata": {},
   "outputs": [],
   "source": [
    "\"\"\"\n",
    "\"\"\"\n",
    "from llama_index.core.extractors import SummaryExtractor\n",
    "\n",
    "summary_extractor = SummaryExtractor(summaries=[\"prev\", \"self\", \"next\"], llm=Settings.llm)"
   ]
  },
  {
   "cell_type": "markdown",
   "metadata": {},
   "source": [
    "### Ingestion pipeline"
   ]
  },
  {
   "cell_type": "code",
   "execution_count": null,
   "metadata": {},
   "outputs": [],
   "source": [
    "from llama_index.core.ingestion import IngestionPipeline\n",
    "\n",
    "# Transformations\n",
    "# TODO: add a cleaner to cleanup llm's generated text, e.g. here's a summary of the document: ...\n",
    "transformations = []\n",
    "transformations.append(semantic_splitter)\n",
    "transformations.append(keyword_extractor)\n",
    "transformations.append(summary_extractor)\n",
    "transformations.append(Settings.embed_model)\n",
    "\n",
    "# Initialize the ingestion pipeline\n",
    "pipeline = IngestionPipeline(transformations=transformations)"
   ]
  },
  {
   "cell_type": "code",
   "execution_count": null,
   "metadata": {},
   "outputs": [],
   "source": [
    "# Run the pipeline\n",
    "nodes = await pipeline.arun(documents=translated_documents, show_progress=True)\n",
    "nodes"
   ]
  },
  {
   "cell_type": "markdown",
   "metadata": {},
   "source": [
    "### Check content"
   ]
  },
  {
   "cell_type": "code",
   "execution_count": null,
   "metadata": {},
   "outputs": [],
   "source": [
    "print(f\"Total nodes: {len(nodes)}\")\n",
    "for node in nodes:\n",
    "    print(f\"================== {node.id_} ========================\")\n",
    "    print(node.text)"
   ]
  },
  {
   "cell_type": "markdown",
   "metadata": {},
   "source": [
    "### Check metadata"
   ]
  },
  {
   "cell_type": "code",
   "execution_count": null,
   "metadata": {},
   "outputs": [],
   "source": [
    "print(f\"Total nodes: {len(nodes)}\")\n",
    "for node in nodes:\n",
    "    print(f\"================== {node.id_} ========================\")\n",
    "    print(node.metadata)"
   ]
  },
  {
   "cell_type": "markdown",
   "metadata": {},
   "source": [
    "### Check embedding"
   ]
  },
  {
   "cell_type": "code",
   "execution_count": null,
   "metadata": {},
   "outputs": [],
   "source": [
    "print(f\"Total nodes: {len(nodes)}\")\n",
    "for node in nodes:\n",
    "    print(f\"================== {node.id_} ========================\")\n",
    "    print(f\"Dimensions: {len(node.embedding)}\")\n",
    "    print(node.embedding[:50])"
   ]
  },
  {
   "cell_type": "markdown",
   "metadata": {},
   "source": [
    "# 2. Indexing"
   ]
  },
  {
   "cell_type": "code",
   "execution_count": null,
   "metadata": {},
   "outputs": [],
   "source": [
    "# Test the indexing\n",
    "from llama_index.core import VectorStoreIndex\n",
    "from llama_index.core.response.notebook_utils import display_source_node, display_response\n",
    "\n",
    "index = VectorStoreIndex(nodes)\n",
    "query_engine = index.as_query_engine(similarity_top_k=3)"
   ]
  },
  {
   "cell_type": "code",
   "execution_count": null,
   "metadata": {},
   "outputs": [],
   "source": [
    "question = \"Company name?\"\n",
    "\n",
    "response = query_engine.query(question)\n",
    "display_response(response, show_source=True, show_metadata=True)"
   ]
  },
  {
   "cell_type": "markdown",
   "metadata": {},
   "source": [
    "# 3. Storing"
   ]
  },
  {
   "cell_type": "markdown",
   "metadata": {},
   "source": [
    "# 4. Querying"
   ]
  },
  {
   "cell_type": "markdown",
   "metadata": {},
   "source": [
    "# 5. Evaluation"
   ]
  },
  {
   "cell_type": "markdown",
   "metadata": {},
   "source": [
    "# Trash"
   ]
  },
  {
   "cell_type": "code",
   "execution_count": null,
   "metadata": {},
   "outputs": [],
   "source": [
    "from qdrant_client import QdrantClient\n",
    "from qdrant_client.http.models import VectorParams\n",
    "\n",
    "# Kết nối tới Qdrant (đang chạy cục bộ hoặc cloud)\n",
    "qdrant_client = QdrantClient(url=\"http://localhost:6333\")\n",
    "collection_name = \"documents_collection\"\n",
    "\n",
    "# Kiểm tra kết nối và danh sách các collections hiện có\n",
    "collections = qdrant_client.get_collections()\n",
    "print(\"Current collections:\", collections)\n",
    "\n",
    "# Kiểm tra xem collection đã tồn tại hay chưa\n",
    "if collection_name not in [collection.name for collection in collections.collections]:\n",
    "    # Tạo collection nếu chưa tồn tại\n",
    "    vector_params = VectorParams(size=1536, distance=\"Cosine\")  # Kích thước vector và khoảng cách cosine\n",
    "    qdrant_client.create_collection(\n",
    "        collection_name=collection_name,\n",
    "        vectors_config=vector_params,\n",
    "        on_disk = True\n",
    "    )\n",
    "    print(f\"Collection '{collection_name}' đã được tạo.\")\n",
    "else:\n",
    "    print(f\"Collection '{collection_name}' đã tồn tại.\")"
   ]
  },
  {
   "cell_type": "code",
   "execution_count": null,
   "metadata": {},
   "outputs": [],
   "source": [
    "import json\n",
    "def save_to_qdrant(nodes):\n",
    "    \n",
    "    for node in nodes:\n",
    "        text = node.text\n",
    "\n",
    "        # Get metadata to save as payload dict\n",
    "        metadata = node.metadata\n",
    "        payload = dict(metadata)\n",
    "        \n",
    "        # Create embdding from text\n",
    "        embedding = embed_model._get_text_embedding(text)\n",
    "    \n",
    "\n",
    "        try:\n",
    "            qdrant_client.upsert(\n",
    "                collection_name=\"documents_collection\",\n",
    "                points=[\n",
    "                    PointStruct(\n",
    "                        id=node.id_,\n",
    "                        vector=embedding,\n",
    "                        payload=payload\n",
    "                        )\n",
    "                    ]\n",
    "                )\n",
    "            print(\"Dữ liệu đã được lưu vào Qdrant!\")\n",
    "        except Exception as e:\n",
    "            print(f\"Error saving data to Qdrant: {e}\")"
   ]
  },
  {
   "cell_type": "code",
   "execution_count": null,
   "metadata": {},
   "outputs": [],
   "source": [
    "from qdrant_client import QdrantClient\n",
    "\n",
    "# Kiểm tra xem collection có tồn tại không\n",
    "try:\n",
    "    # Lấy thông tin về collection\n",
    "    collection_info = qdrant_client.get_collection(collection_name)\n",
    "    print(f\"Collection '{collection_name}' đã được kết nối thành công.\")\n",
    "except Exception as e:\n",
    "    print(f\"Lỗi khi kết nối với collection: {str(e)}\")\n"
   ]
  },
  {
   "cell_type": "code",
   "execution_count": null,
   "metadata": {},
   "outputs": [],
   "source": [
    "from llama_index.vector_stores.qdrant import QdrantVectorStore\n",
    "from llama_index.core import StorageContext\n",
    "\n",
    "# Khởi tạo QdrantVectorStore với tên collection được cập nhật\n",
    "vector_store = QdrantVectorStore(\n",
    "    client=qdrant_client, \n",
    "    collection_name=\"documents_collection\"  # Đổi tên collection tại đây\n",
    ")\n",
    "storage_context = StorageContext.from_defaults(vector_store=vector_store)\n",
    "print(storage_context)"
   ]
  },
  {
   "cell_type": "markdown",
   "metadata": {},
   "source": [
    "# indexing & chunking & pipeline"
   ]
  },
  {
   "cell_type": "code",
   "execution_count": null,
   "metadata": {},
   "outputs": [],
   "source": [
    "from llama_index.core.ingestion import IngestionPipeline\n",
    "from llama_index.core.extractors import QuestionsAnsweredExtractor, KeywordExtractor\n",
    "from llama_index.core.node_parser import SemanticSplitterNodeParser\n",
    "from llama_index.core import Settings\n",
    "from qdrant_client import QdrantClient\n",
    "import numpy as np\n",
    "from datetime import datetime\n",
    "import nest_asyncio\n",
    "\n",
    "nest_asyncio.apply()\n",
    "\n",
    "# Tạo vector_store sử dụng Qdrant\n",
    "from llama_index.vector_stores.qdrant import QdrantVectorStore\n",
    "vector_store = QdrantVectorStore(client=qdrant_client, collection_name=\"documents_collection\")\n",
    "\n",
    "# Cấu hình các extractor và node parser\n",
    "extractors = [\n",
    "    QuestionsAnsweredExtractor(llm=Settings.llm, questions=1),\n",
    "    KeywordExtractor(llm=Settings.llm, keywords=5),\n",
    "]\n",
    "\n",
    "splitter = SemanticSplitterNodeParser(\n",
    "    buffer_size=1,\n",
    "    breakpoint_percentile_threshold=95,\n",
    "    embed_model=Settings.embed_model\n",
    ")\n",
    "\n",
    "# Các transformations\n",
    "transformations = [splitter] + extractors\n",
    "\n",
    "# Khởi tạo ingestion pipeline\n",
    "pipeline = IngestionPipeline(\n",
    "    transformations=transformations,\n",
    "    vector_store=vector_store\n",
    ")\n",
    "\n",
    "# Chạy pipeline để xử lý documents\n",
    "nodes = pipeline.run(documents=documents, show_progress=True, batch_size=64)"
   ]
  },
  {
   "cell_type": "code",
   "execution_count": null,
   "metadata": {},
   "outputs": [],
   "source": [
    "# Beutifulize print nodes\n",
    "import json\n",
    "print(\"Nodes:\")\n",
    "for node in nodes:\n",
    "    print(node)\n",
    "\n",
    "    # metadata\n",
    "    # print(\"Metadata:\")\n",
    "    print(json.dumps(node.metadata, indent=2))\n",
    "    break"
   ]
  },
  {
   "cell_type": "code",
   "execution_count": null,
   "metadata": {},
   "outputs": [],
   "source": [
    "from qdrant_client.models import PointStruct"
   ]
  },
  {
   "cell_type": "code",
   "execution_count": null,
   "metadata": {},
   "outputs": [],
   "source": [
    "import json\n",
    "def save_to_qdrant(nodes):\n",
    "    \n",
    "    for node in nodes:\n",
    "        text = node.text\n",
    "\n",
    "        # Get metadata to save as payload dict\n",
    "        metadata = node.metadata\n",
    "        payload = dict(metadata)\n",
    "        \n",
    "        # Create embdding from text\n",
    "        embedding = embed_model._get_text_embedding(text)\n",
    "    \n",
    "\n",
    "        try:\n",
    "            qdrant_client.upsert(\n",
    "                collection_name=\"documents_collection\",\n",
    "                points=[\n",
    "                    PointStruct(\n",
    "                        id=node.id_,\n",
    "                        vector=embedding,\n",
    "                        payload=payload\n",
    "                        )\n",
    "                    ]\n",
    "                )\n",
    "            print(\"Dữ liệu đã được lưu vào Qdrant!\")\n",
    "        except Exception as e:\n",
    "            print(f\"Error saving data to Qdrant: {e}\")\n",
    "# Lưu các nodes vào Qdrant\n",
    "qdrant_client.recreate_collection(\n",
    "    collection_name=\"documents_collection\",\n",
    "    vectors_config=VectorParams(size=1536, distance=\"Cosine\"),\n",
    ")"
   ]
  },
  {
   "cell_type": "code",
   "execution_count": null,
   "metadata": {},
   "outputs": [],
   "source": [
    "save_to_qdrant(nodes)"
   ]
  },
  {
   "cell_type": "code",
   "execution_count": null,
   "metadata": {},
   "outputs": [],
   "source": [
    "collection_info = qdrant_client.get_collection(collection_name=collection_name)\n",
    "print(collection_info)\n",
    "\n",
    "vectors = qdrant_client.scroll(\n",
    "    collection_name=\"documents_collection\",\n",
    "    limit=10,\n",
    "    with_payload=True,\n",
    ")\n",
    "\n",
    "vectors"
   ]
  },
  {
   "cell_type": "code",
   "execution_count": null,
   "metadata": {},
   "outputs": [],
   "source": [
    "all_points = []\n",
    "scroll_token = None\n",
    "\n",
    "while True:\n",
    "    # Fetch points in batches\n",
    "    response = qdrant_client.scroll(\n",
    "        collection_name=\"documents_collection\",\n",
    "        with_vectors=True,  # Include vectors in the response\n",
    "        with_payload=True,  # Include payloads in the response\n",
    "        offset=scroll_token,  # Provide the scroll token for pagination\n",
    "    )\n",
    "    \n",
    "    # Add retrieved points to the list\n",
    "    all_points.extend(response[0])\n",
    "    \n",
    "    # Check if there's more data to fetch\n",
    "    scroll_token = response[1]\n",
    "    if scroll_token is None:  # No more data to fetch\n",
    "        break\n",
    "for point in all_points:\n",
    "    print(f\"ID: {point.id}, Vector: {point.vector}, Payload: {point.payload}\")"
   ]
  },
  {
   "cell_type": "code",
   "execution_count": null,
   "metadata": {},
   "outputs": [],
   "source": [
    "from llama_index.core import Document\n",
    "from llama_index.core.storage.docstore import SimpleDocumentStore\n",
    "from llama_index.core import StorageContext\n",
    "# Chuyển đổi danh sách all_points thành danh sách Document\n",
    "documents = [\n",
    "    Document(\n",
    "        id=point.id,  # ID của Document\n",
    "        text=str(point.vector),  # Nội dung vector (hoặc chuyển vector thành chuỗi)\n",
    "        metadata=point.payload  # Thêm metadata\n",
    "    )\n",
    "    for point in all_points\n",
    "]\n",
    "\n",
    "# Thêm vào docstore\n",
    "docstore = SimpleDocumentStore()\n",
    "docstore.add_documents(documents)\n",
    "storage_context = StorageContext.from_defaults(\n",
    "    docstore=docstore,\n",
    "    vector_store=vector_store,\n",
    ")"
   ]
  },
  {
   "cell_type": "markdown",
   "metadata": {},
   "source": [
    "# retriver"
   ]
  },
  {
   "cell_type": "code",
   "execution_count": null,
   "metadata": {},
   "outputs": [],
   "source": [
    "from llama_index.retrievers.bm25 import BM25Retriever\n",
    "import Stemmer\n",
    "\n",
    "bm25_retriever = BM25Retriever.from_defaults(\n",
    "    docstore=docstore,\n",
    "    similarity_top_k=1,\n",
    "    stemmer=Stemmer.Stemmer(\"english\"),\n",
    "    language=\"english\",\n",
    ")\n",
    "from llama_index.core.response.notebook_utils import display_source_node\n",
    "retrieved_nodes = bm25_retriever.retrieve(\n",
    "    \"What do you know?\"\n",
    ")\n",
    "for node in retrieved_nodes:\n",
    "    print(node)"
   ]
  },
  {
   "cell_type": "code",
   "execution_count": null,
   "metadata": {},
   "outputs": [],
   "source": [
    "from llama_index.core.postprocessor import SentenceEmbeddingOptimizer\n",
    "from llama_index.core.postprocessor import EmbeddingRecencyPostprocessor\n",
    "from llama_index.core.postprocessor import LLMRerank\n",
    "\n",
    "\n",
    "node_postprocessors = [\n",
    "    SentenceEmbeddingOptimizer(\n",
    "        embed_model=Settings.embed_model,\n",
    "        # percentile_cutoff=0.5,\n",
    "        threshold_cutoff=0.7,\n",
    "    ),\n",
    "    EmbeddingRecencyPostprocessor(date_key=\"date\", similarity_cutoff=0.7),\n",
    "    LLMRerank(top_n=2),\n",
    "]"
   ]
  },
  {
   "cell_type": "code",
   "execution_count": null,
   "metadata": {},
   "outputs": [],
   "source": [
    "from llama_index.core.query_engine import RetrieverQueryEngine\n",
    "from llama_index.core import get_response_synthesizer\n",
    "from llama_index.core.response_synthesizers.type import ResponseMode\n",
    "\n",
    "# Configure response synthesizer\n",
    "response_synthesizer = get_response_synthesizer(llm=Settings.llm, response_mode=ResponseMode.COMPACT)\n",
    "\n",
    "# assemble query engine\n",
    "query_engine = RetrieverQueryEngine(\n",
    "    retriever=bm25_retriever,\n",
    "    response_synthesizer=response_synthesizer,\n",
    "    node_postprocessors=node_postprocessors,\n",
    ")"
   ]
  },
  {
   "cell_type": "code",
   "execution_count": null,
   "metadata": {},
   "outputs": [],
   "source": [
    "from llama_index.core import PromptTemplate\n",
    "from llama_index.core.llms import ChatMessage, MessageRole\n",
    "\n",
    "CUSTOM_PROMPT = PromptTemplate(\n",
    "    \"\"\"\n",
    "    Based on the conversation history between the User and the Assistant, along with the User's new question, analyze and understand the question within the context of the conversation.\n",
    "    Provide a relevant response in Vietnamese, using a professional tone like a Human Resource Specialist.  \n",
    "\n",
    "    <Conversation History>\n",
    "    {chat_history}\n",
    "\n",
    "    <Current Question>\n",
    "    {question}\n",
    "    \"\"\"\n",
    ")\n",
    "\n",
    "custom_chat_history = [\n",
    "    ChatMessage(\n",
    "        role=MessageRole.USER,\n",
    "        content=\"Hello assistant, we are having a conversation about the company's regulations.\",\n",
    "    ),\n",
    "    ChatMessage(\n",
    "        role=MessageRole.ASSISTANT,\n",
    "        content=\"Great, would you like to know more information about the company's regulations?\",\n",
    "    ),\n",
    "]"
   ]
  },
  {
   "cell_type": "code",
   "execution_count": null,
   "metadata": {},
   "outputs": [],
   "source": [
    "from llama_index.core.chat_engine import CondenseQuestionChatEngine\n",
    "\n",
    "chat_engine = CondenseQuestionChatEngine.from_defaults(\n",
    "    query_engine=query_engine,\n",
    "    condense_question_prompt=CUSTOM_PROMPT,\n",
    "    chat_history=custom_chat_history,\n",
    "    verbose=True\n",
    ")"
   ]
  },
  {
   "cell_type": "code",
   "execution_count": null,
   "metadata": {},
   "outputs": [],
   "source": [
    "query = \"Các hình thức xử phạt của công ty?\"\n",
    "# response = query_engine.query(query)\n",
    "response = chat_engine.chat(query)"
   ]
  },
  {
   "cell_type": "code",
   "execution_count": null,
   "metadata": {},
   "outputs": [],
   "source": []
  }
 ],
 "metadata": {
  "kernelspec": {
   "display_name": ".venv",
   "language": "python",
   "name": "python3"
  },
  "language_info": {
   "codemirror_mode": {
    "name": "ipython",
    "version": 3
   },
   "file_extension": ".py",
   "mimetype": "text/x-python",
   "name": "python",
   "nbconvert_exporter": "python",
   "pygments_lexer": "ipython3",
   "version": "3.11.10"
  }
 },
 "nbformat": 4,
 "nbformat_minor": 2
}
