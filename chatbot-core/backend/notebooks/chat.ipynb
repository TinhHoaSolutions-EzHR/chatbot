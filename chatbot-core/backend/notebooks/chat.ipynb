{
 "cells": [
  {
   "cell_type": "code",
   "execution_count": null,
   "metadata": {},
   "outputs": [],
   "source": [
    "import os\n",
    "import nest_asyncio\n",
    "from llama_index.core import SimpleDirectoryReader, VectorStoreIndex, Settings\n",
    "\n",
    "\n",
    "nest_asyncio.apply()\n",
    "openai_api_key = os.getenv(\"OPENAI_API_KEY\")\n",
    "\n",
    "openai_api_key"
   ]
  },
  {
   "cell_type": "code",
   "execution_count": null,
   "metadata": {},
   "outputs": [],
   "source": [
    "from app.utils.llm.helpers import init_llm_configurations\n",
    "from app.settings import Constants\n",
    "\n",
    "\n",
    "init_llm_configurations(llm_model=Constants.LLM_MODEL, embedding_model=Constants.EMBEDDING_MODEL)"
   ]
  },
  {
   "cell_type": "code",
   "execution_count": null,
   "metadata": {},
   "outputs": [],
   "source": [
    "documents = SimpleDirectoryReader(\"../examples\").load_data(show_progress=True)\n",
    "documents"
   ]
  },
  {
   "cell_type": "code",
   "execution_count": 9,
   "metadata": {},
   "outputs": [],
   "source": [
    "# Build index\n",
    "index = VectorStoreIndex(documents)"
   ]
  },
  {
   "cell_type": "code",
   "execution_count": 34,
   "metadata": {},
   "outputs": [],
   "source": [
    "SYSTEM_PROMPT = \"\"\"\n",
    "You are a human resources professional at a company that needs to quickly find information in its policy documents.\n",
    "\n",
    "Guidelines:\n",
    "- Provide information explicitly stated in policy documents\n",
    "- For basic contextual questions (company name, policy type, etc), use ONLY information directly visible in the provided context\n",
    "- If you cannot find an answer, please output \"Không tìm thấy thông tin, hãy liên hệ HR. SĐT: 0123456789 hoặc email contact.hr@company.com.\"\n",
    "- No assumptions or interpretations about policy details\n",
    "- Do not explain\n",
    "- Your primary language is Vietnamese\n",
    "\n",
    "Let's work this out in a step by step way to be sure we have the right answer.\"\"\"\n",
    "\n",
    "CONTEXT_PROMPT = \"\"\"\n",
    "The following is a friendly conversation between an employee and a human resources professional.\n",
    "The professional is talkative and provides lots of specific details from her context.\n",
    "If the professional does not know the answer to a question, she truthfully says she does not know.\n",
    "\n",
    "Here are the relevant documents for the context:\n",
    "\n",
    "{context_str}\n",
    "\n",
    "## Instruction\n",
    "Based on the above documents, provide a detailed answer for the employee question below.\n",
    "Answer \"don't know\" if not present in the document.\"\"\"\n",
    "\n",
    "CONTEXT_REFINE_PROMPT = \"\"\"\n",
    "The following is a friendly conversation between an employee and a human resources professional.\n",
    "The professional is talkative and provides lots of specific details from her context.\n",
    "If the professional does not know the answer to a question, she truthfully says she does not know.\n",
    "\n",
    "Here are the relevant documents for the context:\n",
    "\n",
    "{context_msg}\n",
    "\n",
    "Existing Answer:\n",
    "\n",
    "{existing_answer}\n",
    "\n",
    "## Instruction\n",
    "Refine the existing answer using the provided context to assist the user.\n",
    "If the context isn't helpful, just repeat the existing answer and nothing more.\"\"\"\n",
    "\n",
    "CONDENSE_PROMPT = \"\"\"\n",
    "Given the following conversation between an employee and a human resources professional and a follow up question from the employee.\n",
    "Your task is to firstly summarize the chat history and secondly condense the follow up question into a standalone question.\n",
    "\n",
    "Chat History:\n",
    "'''\n",
    "{chat_history}\n",
    "'''\n",
    "\n",
    "Follow Up Input:\n",
    "'''\n",
    "{question}\n",
    "'''\n",
    "\n",
    "Output format: a standalone question.\n",
    "\n",
    "Your response:\"\"\""
   ]
  },
  {
   "cell_type": "code",
   "execution_count": 35,
   "metadata": {},
   "outputs": [],
   "source": [
    "# Create retriever and the chat engine\n",
    "from llama_index.core.chat_engine import CondensePlusContextChatEngine\n",
    "from llama_index.core.postprocessor import LLMRerank\n",
    "from llama_index.core.memory import BaseMemory\n",
    "\n",
    "\n",
    "retriever = index.as_retriever()\n",
    "memory = BaseMemory.from_defaults()"
   ]
  },
  {
   "cell_type": "code",
   "execution_count": 36,
   "metadata": {},
   "outputs": [],
   "source": [
    "chat_engine = CondensePlusContextChatEngine.from_defaults(\n",
    "    retriever=retriever,\n",
    "    memory=memory,\n",
    "    system_prompt=SYSTEM_PROMPT,\n",
    "    context_prompt=CONTEXT_PROMPT,\n",
    "    context_refine_prompt=CONTEXT_REFINE_PROMPT,\n",
    "    node_postprocessors=[LLMRerank(top_n=5)],\n",
    "    verbose=True\n",
    ")"
   ]
  },
  {
   "cell_type": "code",
   "execution_count": null,
   "metadata": {},
   "outputs": [],
   "source": [
    "response = chat_engine.chat(\"trường hợp nghỉ việc riêng không lương?\")\n",
    "\n",
    "print(f\"Response: {response.response}\")\n",
    "print(f\"Sources: {response.sources}\")\n",
    "print(f\"Source nodes: {response.source_nodes}\")"
   ]
  }
 ],
 "metadata": {
  "kernelspec": {
   "display_name": ".venv",
   "language": "python",
   "name": "python3"
  },
  "language_info": {
   "codemirror_mode": {
    "name": "ipython",
    "version": 3
   },
   "file_extension": ".py",
   "mimetype": "text/x-python",
   "name": "python",
   "nbconvert_exporter": "python",
   "pygments_lexer": "ipython3",
   "version": "3.11.10"
  }
 },
 "nbformat": 4,
 "nbformat_minor": 2
}
